{
 "cells": [
  {
   "cell_type": "markdown",
   "metadata": {},
   "source": [
    "### Introduction "
   ]
  },
  {
   "cell_type": "markdown",
   "metadata": {},
   "source": [
    "### Setup"
   ]
  },
  {
   "cell_type": "code",
   "execution_count": null,
   "metadata": {
    "scrolled": true
   },
   "outputs": [],
   "source": [
    "import pymongo\n",
    "import pandas as pd\n",
    "from pandas.io.json import json_normalize \n",
    "from pymongo import MongoClient\n",
    "import numpy as np "
   ]
  },
  {
   "cell_type": "code",
   "execution_count": null,
   "metadata": {
    "scrolled": true
   },
   "outputs": [],
   "source": [
    " #point the client at mongo URI \n",
    "client = MongoClient('mongodb://localhost:27017')\n",
    "#select database\n",
    "db = client['tipster']"
   ]
  },
  {
   "cell_type": "markdown",
   "metadata": {},
   "source": [
    "Two mongodb collections - one for results meeting-horses-place , one for form - horse"
   ]
  },
  {
   "cell_type": "code",
   "execution_count": null,
   "metadata": {
    "scrolled": true
   },
   "outputs": [],
   "source": [
    "form_collection = db.form\n",
    "data = form_collection.find({},{\"_id\":0}) \n",
    "form_df = pd.DataFrame(json_normalize(data, 'form',['horse_name']))"
   ]
  },
  {
   "cell_type": "code",
   "execution_count": null,
   "metadata": {
    "scrolled": true
   },
   "outputs": [],
   "source": [
    "# flatten data and put into dataframe \n",
    "meetings_collection = db.meetings\n",
    "data=meetings_collection.find({},{\"_id\":0})\n",
    "meeting_runners_df = pd.DataFrame(json_normalize(data,'runners',['meeting_url','meeting_date_time']))\n",
    "mdf=meeting_runners_df"
   ]
  },
  {
   "cell_type": "markdown",
   "metadata": {},
   "source": [
    "##### generate dependent variable series with indexed by horse_name-meeting_url so they can be joined together painlessly"
   ]
  },
  {
   "cell_type": "markdown",
   "metadata": {},
   "source": [
    "#####  has winning form\n",
    "Create series indexed by horse_name-meeting_url for whether the horse has won prior to the meeting data: - \n",
    "Find first win date of all winning horses - date of earlist winning meeting for each horse  \n",
    "Bring back all horses, winners or not using left outer join  \n",
    "###### some name-mangling by merge() -  \n",
    "meeting_date_time_x = current meeting date time  \n",
    "meeting_date_time_y = earliest win  \n",
    "###### ... finally\n",
    "generate dummy variable current meeting date time strictly greater than earliest win - every date > NaT"
   ]
  },
  {
   "cell_type": "code",
   "execution_count": null,
   "metadata": {
    "scrolled": false
   },
   "outputs": [],
   "source": [
    "earliest_win_date = mdf[mdf.place==1].groupby(mdf.horse_name).meeting_date_time.min().reset_index()\n",
    "tmp = pd.merge(mdf[['horse_name','meeting_url','meeting_date_time']],\\\n",
    "               earliest_win_date, on='horse_name',how='left').set_index(['horse_name','meeting_url'])\n",
    "tmp['has_winning_form']  = np.where(tmp.meeting_date_time_x > tmp.meeting_date_time_y,1,0)\n",
    "has_winning_form = tmp['has_winning_form']"
   ]
  },
  {
   "cell_type": "markdown",
   "metadata": {},
   "source": [
    "#### Form against competitors\n",
    "Generate pairs of horse in every race- cartesian product of horses for each meeting -  \n",
    "also need meeting date time so we can just count results previous to meeting when we do merge  \n",
    "\n",
    "'Winner' is horse that is better placed then other horse - 'loser'\n",
    "\n",
    "if date of win is prior to meeting date update beaten other horse in race in 'x' to true"
   ]
  },
  {
   "cell_type": "code",
   "execution_count": null,
   "metadata": {
    "scrolled": true
   },
   "outputs": [],
   "source": [
    "mdfl = meeting_runners_df[['meeting_url','horse_name','place','meeting_date_time']]\n",
    "mdfr = mdfl\n",
    "horse_pairs = mdfl.merge(mdfr, on='meeting_url')"
   ]
  },
  {
   "cell_type": "code",
   "execution_count": null,
   "metadata": {
    "scrolled": true
   },
   "outputs": [],
   "source": [
    "horse_pairs = horse_pairs[horse_pairs.horse_name_x != horse_pairs.horse_name_y]\n",
    "horse_pairs['winner'] = np.where(horse_pairs.place_x < horse_pairs.place_y,\n",
    "                                 horse_pairs.horse_name_x, horse_pairs.horse_name_y )\n",
    "horse_pairs['loser'] = np.where(horse_pairs.place_x < horse_pairs.place_y,\n",
    "                                 horse_pairs.horse_name_y, horse_pairs.horse_name_x )"
   ]
  },
  {
   "cell_type": "markdown",
   "metadata": {},
   "source": [
    "#### collateral form   \n",
    "##### if A beat B and B beat C in another race , then A has collateral form against C\n",
    "if A and C are competitors in the same race \n",
    "if A is a winner and B is a loser in the most race they ran togther, and B won against C in the most recent race they ran together before that, then A has collateral form against C. \n",
    "\n",
    "\n",
    "\n",
    "if B and C are competitors in the same race \n",
    "if B lost against A in the most previous race they ran together and C lost against A in the most previous race they ran together, and B was better placed than C then A has collateral form against C.\n",
    "\n",
    "##### if A beat B in one meeting and A beat C in another meeting and B had a better place than C against A, then B has indirect form against C \n",
    "\n"
   ]
  },
  {
   "cell_type": "code",
   "execution_count": null,
   "metadata": {
    "scrolled": true
   },
   "outputs": [],
   "source": [
    "#join to get horse A,B and C  \n",
    "collateral_form = horse_pairs.merge(horse_pairs, left_on=\"loser\", right_on=\"winner\")\n",
    "#don't include three horses in same race\n",
    "collateral_form = collateral_form[collateral_form['meeting_url_x']!=collateral_form['meeting_url_y']]\n",
    "#form is retrospective! \n",
    "collateral_form = collateral_form[collateral_form['meeting_date_time_x_x']>=collateral_form['meeting_date_time_y_y']]"
   ]
  },
  {
   "cell_type": "code",
   "execution_count": null,
   "metadata": {
    "scrolled": false
   },
   "outputs": [],
   "source": [
    "# sort for merge_asof\n",
    "cf1 = collateral_form[['winner_x','loser_y','meeting_date_time_y_y','meeting_url_x']].sort_values(by='meeting_date_time_y_y')\n",
    "cm1 = horse_pairs[['horse_name_x','horse_name_y','meeting_date_time_y']].sort_values(by='meeting_date_time_y')\n",
    "\n",
    "#pairs of horses in same race - match first horse with horse A - winner and second horse with horse C \n",
    "#using most recent race where horse C was beaten \n",
    "collateral_form_pairs = pd.merge_asof(cm1,cf1,allow_exact_matches=False, \\\n",
    "                    left_by=['horse_name_x','horse_name_y'], right_by=['winner_x','loser_y'], \\\n",
    "                    left_on='meeting_date_time_y', right_on='meeting_date_time_y_y')\n",
    "\n",
    "#outer join so remove nulls - can't find matching horse C \n",
    "collateral_form_pairs = collateral_form_pairs[collateral_form_pairs['winner_x'].notnull()] "
   ]
  },
  {
   "cell_type": "code",
   "execution_count": null,
   "metadata": {
    "scrolled": false
   },
   "outputs": [],
   "source": [
    "mrd = meeting_runners_df\n",
    "has_cf = pd.merge(collateral_form_pairs, mrd, left_on=['winner_x','meeting_url_x'],\\\n",
    "                  right_on=['horse_name','meeting_url'],how='right')"
   ]
  },
  {
   "cell_type": "markdown",
   "metadata": {},
   "source": [
    "horse may have beaten a horse that beat more than one  horse in the same race"
   ]
  },
  {
   "cell_type": "code",
   "execution_count": null,
   "metadata": {
    "scrolled": false
   },
   "outputs": [],
   "source": [
    "has_cf =  has_cf[['horse_name', 'meeting_url','meeting_date_time_y_y']].groupby(['horse_name', 'meeting_url']).meeting_date_time_y_y.agg(\"max\").reset_index()\n",
    "has_cf['franking_form'] = np.where(has_cf.meeting_date_time_y_y.isnull(),0,1)\n",
    "has_cf\n",
    "\n"
   ]
  },
  {
   "cell_type": "markdown",
   "metadata": {},
   "source": [
    "### Data|"
   ]
  },
  {
   "cell_type": "markdown",
   "metadata": {},
   "source": [
    "### Features"
   ]
  },
  {
   "cell_type": "markdown",
   "metadata": {},
   "source": [
    "\n",
    "which horses in a meeting are winners as of meeting date?  "
   ]
  },
  {
   "cell_type": "markdown",
   "metadata": {},
   "source": [
    "has a horse in a meeting beaten another horse in the same meeting?"
   ]
  },
  {
   "cell_type": "markdown",
   "metadata": {},
   "source": [
    "for a given pair of horses which one did better against a third horse?  \n",
    "    how similar were the conditions? "
   ]
  },
  {
   "cell_type": "markdown",
   "metadata": {},
   "source": [
    "time since last race (fitness and value of form)"
   ]
  },
  {
   "cell_type": "markdown",
   "metadata": {},
   "source": [
    "does the horse need to improve - is it a champion"
   ]
  },
  {
   "cell_type": "markdown",
   "metadata": {},
   "source": [
    "will form improve?   \n",
    "margin of victory - ( bigger implies form won't change )  (low fitness + ease => improving form) "
   ]
  },
  {
   "cell_type": "markdown",
   "metadata": {},
   "source": [
    "commentary:  \n",
    "   activity during race  \n",
    "   finish  \n",
    "   speed "
   ]
  },
  {
   "cell_type": "markdown",
   "metadata": {},
   "source": [
    "is progressively better"
   ]
  },
  {
   "cell_type": "markdown",
   "metadata": {},
   "source": [
    "above or below average time for course?"
   ]
  },
  {
   "cell_type": "markdown",
   "metadata": {},
   "source": [
    "raised or lowered in class?"
   ]
  },
  {
   "cell_type": "markdown",
   "metadata": {},
   "source": [
    "proven at distance "
   ]
  },
  {
   "cell_type": "markdown",
   "metadata": {},
   "source": [
    "proven for going"
   ]
  },
  {
   "cell_type": "markdown",
   "metadata": {},
   "source": [
    "weight"
   ]
  },
  {
   "cell_type": "markdown",
   "metadata": {},
   "source": [
    "draw - look up advantage of draw in course"
   ]
  },
  {
   "cell_type": "markdown",
   "metadata": {},
   "source": [
    "type of race - handicap/flat/jumps"
   ]
  },
  {
   "cell_type": "markdown",
   "metadata": {},
   "source": [
    "### Training\n"
   ]
  },
  {
   "cell_type": "code",
   "execution_count": null,
   "metadata": {
    "scrolled": true
   },
   "outputs": [],
   "source": [
    "import sklearn\n",
    "from sklearn.linear_model import LogisticRegression\n",
    "# from sklearn.cross_validation import train_test_split \n"
   ]
  },
  {
   "cell_type": "markdown",
   "metadata": {},
   "source": [
    "\n",
    "### Predict"
   ]
  },
  {
   "cell_type": "code",
   "execution_count": null,
   "metadata": {
    "scrolled": true
   },
   "outputs": [],
   "source": []
  }
 ],
 "metadata": {
  "kernelspec": {
   "display_name": "Python 3",
   "language": "python",
   "name": "python3"
  },
  "language_info": {
   "codemirror_mode": {
    "name": "ipython",
    "version": 3
   },
   "file_extension": ".py",
   "mimetype": "text/x-python",
   "name": "python",
   "nbconvert_exporter": "python",
   "pygments_lexer": "ipython3",
   "version": "3.6.5"
  }
 },
 "nbformat": 4,
 "nbformat_minor": 2
}
