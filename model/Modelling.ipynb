{
 "cells": [
  {
   "cell_type": "markdown",
   "metadata": {},
   "source": [
    "### Introduction "
   ]
  },
  {
   "cell_type": "markdown",
   "metadata": {},
   "source": [
    "### Setup"
   ]
  },
  {
   "cell_type": "code",
   "execution_count": null,
   "metadata": {},
   "outputs": [],
   "source": [
    "import pymongo\n",
    "import pandas as pd\n",
    "from pandas.io.json import json_normalize \n",
    "from pymongo import MongoClient\n",
    "import numpy as np "
   ]
  },
  {
   "cell_type": "code",
   "execution_count": null,
   "metadata": {},
   "outputs": [],
   "source": [
    " #point the client at mongo URI \n",
    "client = MongoClient('mongodb://localhost:27017')\n",
    "#select database\n",
    "db = client['tipster']"
   ]
  },
  {
   "cell_type": "code",
   "execution_count": null,
   "metadata": {
    "scrolled": false
   },
   "outputs": [],
   "source": [
    "\n",
    "form_collection = db.form\n",
    "data = form_collection.find({},{\"_id\":0}) \n",
    "form_df = pd.DataFrame(json_normalize(data, 'form',['horse_name']))"
   ]
  },
  {
   "cell_type": "code",
   "execution_count": null,
   "metadata": {},
   "outputs": [],
   "source": [
    "# flatten data and put into dataframe \n",
    "meetings_collection = db.meetings\n",
    "data=meetings_collection.find({},{\"_id\":0})\n",
    "meeting_runners_df= pd.DataFrame(json_normalize(data,'runners',['meeting_url','meeting_date_time']))\n",
    "meeting_runners_df['won'] = np.where(meeting_runners_df['place'] == 1.0, 1,0 )"
   ]
  },
  {
   "cell_type": "markdown",
   "metadata": {},
   "source": [
    "for each horse-date check if winner in any of the previous races  \n",
    "\n",
    "for each horse get the data of the first win  \n",
    "for each horse-date horse is a winner if date (strictly) > first win "
   ]
  },
  {
   "cell_type": "markdown",
   "metadata": {},
   "source": [
    "generate winning_form data"
   ]
  },
  {
   "cell_type": "markdown",
   "metadata": {},
   "source": [
    "#### Form against competitors\n",
    "generate pairs - cartesian product of horses for each meeting\n",
    "find winner.\n",
    "if date of win is prior to meeting date update beaten other horse in race in 'x' to true\n",
    "\n"
   ]
  },
  {
   "cell_type": "code",
   "execution_count": null,
   "metadata": {},
   "outputs": [],
   "source": [
    "#cartesian join get pairs of horses in the same meeting\n",
    "mdf = meeting_runners_df\n",
    "mdfl = pd.DataFrame(mdf[['meeting_url','horse_name','place']])\n",
    "mdfr = mdfl\n",
    "competitors = mdfl.merge(mdfr, on='meeting_url')\n",
    "competitors['winner'] = np.where(competitors.place_x < competitors.place_y, competitors.horse_name_x, competitors.horse_name_y) \n",
    "competitors['loser'] = np.where(competitors.place_x >= competitors.place_y, competitors.horse_name_x, competitors.horse_name_y)\n",
    "competitors.rename(columns={\"place_x\":\"winner_place\",\"place_y\":\"loser_place\"},inplace=True)"
   ]
  },
  {
   "cell_type": "markdown",
   "metadata": {},
   "source": [
    "#### collateral form   \n",
    "##### if A beat B and B beat C in another race , then A has collateral form against C\n",
    "##### if A beat B and A beat C and B had a better place than C against A, then B has indirect form against C "
   ]
  },
  {
   "cell_type": "code",
   "execution_count": null,
   "metadata": {},
   "outputs": [],
   "source": [
    "collateral_form = competitors.merge(competitors, left_on=\"loser\", right_on=\"winner\")\n",
    "collateral_form = collateral_form[collateral_form['meeting_url_x']!=collateral_form['meeting_url_y']]"
   ]
  },
  {
   "cell_type": "markdown",
   "metadata": {},
   "source": [
    "### Data|"
   ]
  },
  {
   "cell_type": "markdown",
   "metadata": {},
   "source": [
    "### Features"
   ]
  },
  {
   "cell_type": "markdown",
   "metadata": {},
   "source": [
    "\n",
    "which horses in a meeting are winners as of meeting date?  "
   ]
  },
  {
   "cell_type": "markdown",
   "metadata": {},
   "source": [
    "has a horse in a meeting beaten another horse in the same meeting?"
   ]
  },
  {
   "cell_type": "markdown",
   "metadata": {},
   "source": [
    "for a given pair of horses which one did better against a third horse?  \n",
    "    how similar were the conditions? "
   ]
  },
  {
   "cell_type": "markdown",
   "metadata": {},
   "source": [
    "time since last race (fitness and value of form)"
   ]
  },
  {
   "cell_type": "markdown",
   "metadata": {},
   "source": [
    "does the horse need to improve - is it a champion"
   ]
  },
  {
   "cell_type": "markdown",
   "metadata": {},
   "source": [
    "will form improve?   \n",
    "margin of victory - ( bigger implies form won't change )  (low fitness + ease => improving form) "
   ]
  },
  {
   "cell_type": "markdown",
   "metadata": {},
   "source": [
    "commentary:  \n",
    "   activity during race  \n",
    "   finish  \n",
    "   speed "
   ]
  },
  {
   "cell_type": "markdown",
   "metadata": {},
   "source": [
    "is progressively better"
   ]
  },
  {
   "cell_type": "markdown",
   "metadata": {},
   "source": [
    "above or below average time for course?"
   ]
  },
  {
   "cell_type": "markdown",
   "metadata": {},
   "source": [
    "raised or lowered in class?"
   ]
  },
  {
   "cell_type": "markdown",
   "metadata": {},
   "source": [
    "proven at distance "
   ]
  },
  {
   "cell_type": "markdown",
   "metadata": {},
   "source": [
    "proven for going"
   ]
  },
  {
   "cell_type": "markdown",
   "metadata": {},
   "source": [
    "weight"
   ]
  },
  {
   "cell_type": "markdown",
   "metadata": {},
   "source": [
    "draw - look up advantage of draw in course"
   ]
  },
  {
   "cell_type": "markdown",
   "metadata": {},
   "source": [
    "type of race - handicap/flat/jumps"
   ]
  },
  {
   "cell_type": "markdown",
   "metadata": {},
   "source": [
    "### Training"
   ]
  },
  {
   "cell_type": "markdown",
   "metadata": {},
   "source": [
    "### Predict"
   ]
  },
  {
   "cell_type": "code",
   "execution_count": null,
   "metadata": {},
   "outputs": [],
   "source": []
  }
 ],
 "metadata": {
  "kernelspec": {
   "display_name": "Python 3",
   "language": "python",
   "name": "python3"
  },
  "language_info": {
   "codemirror_mode": {
    "name": "ipython",
    "version": 3
   },
   "file_extension": ".py",
   "mimetype": "text/x-python",
   "name": "python",
   "nbconvert_exporter": "python",
   "pygments_lexer": "ipython3",
   "version": "3.6.5"
  }
 },
 "nbformat": 4,
 "nbformat_minor": 2
}
