{
 "cells": [
  {
   "cell_type": "markdown",
   "metadata": {},
   "source": [
    "### Introduction "
   ]
  },
  {
   "cell_type": "markdown",
   "metadata": {},
   "source": [
    "### Setup"
   ]
  },
  {
   "cell_type": "code",
   "execution_count": null,
   "metadata": {},
   "outputs": [],
   "source": [
    "import pymongo\n",
    "import pandas as pd\n",
    "from pandas.io.json import json_normalize \n",
    "from pymongo import MongoClient"
   ]
  },
  {
   "cell_type": "code",
   "execution_count": null,
   "metadata": {},
   "outputs": [],
   "source": [
    " #point the client at mongo URI \n",
    "client = MongoClient('mongodb://localhost:27017')\n",
    "#select database\n",
    "db = client['tipster']"
   ]
  },
  {
   "cell_type": "code",
   "execution_count": null,
   "metadata": {},
   "outputs": [],
   "source": [
    "# flatten data and put into dataframe data=meetings_collection.find({},{\"_id\":0})\n",
    "meeting_runners_df= pd.DataFrame(json_normalize(data,'runners',['meeting_url']))\n",
    "meeting_runners_df"
   ]
  },
  {
   "cell_type": "markdown",
   "metadata": {},
   "source": [
    "### Data"
   ]
  },
  {
   "cell_type": "markdown",
   "metadata": {},
   "source": [
    "### Features"
   ]
  },
  {
   "cell_type": "markdown",
   "metadata": {},
   "source": [
    "which horses in a meeting are winners as of meeting date?  "
   ]
  },
  {
   "cell_type": "code",
   "execution_count": null,
   "metadata": {},
   "outputs": [],
   "source": []
  },
  {
   "cell_type": "markdown",
   "metadata": {},
   "source": [
    "has a horse in a meeting beaten another horse in the same meeting?"
   ]
  },
  {
   "cell_type": "markdown",
   "metadata": {},
   "source": [
    "for a given pair of horses which one did better against a third horse?  \n",
    "    how similar were the conditions? "
   ]
  },
  {
   "cell_type": "markdown",
   "metadata": {},
   "source": [
    "time since last race (fitness and value of form)"
   ]
  },
  {
   "cell_type": "markdown",
   "metadata": {},
   "source": [
    "does the horse need to improve - is it a champion"
   ]
  },
  {
   "cell_type": "markdown",
   "metadata": {},
   "source": [
    "will form improve?   \n",
    "margin of victory - ( bigger implies form won't change )  (low fitness + ease => improving form) "
   ]
  },
  {
   "cell_type": "markdown",
   "metadata": {},
   "source": [
    "commentary:  \n",
    "   activity during race  \n",
    "   finish  \n",
    "   speed "
   ]
  },
  {
   "cell_type": "markdown",
   "metadata": {},
   "source": [
    "is progressively better"
   ]
  },
  {
   "cell_type": "markdown",
   "metadata": {},
   "source": [
    "above or below average time for course?"
   ]
  },
  {
   "cell_type": "markdown",
   "metadata": {},
   "source": [
    "raised or lowered in class?"
   ]
  },
  {
   "cell_type": "markdown",
   "metadata": {},
   "source": [
    "proven at distance "
   ]
  },
  {
   "cell_type": "markdown",
   "metadata": {},
   "source": [
    "proven for going"
   ]
  },
  {
   "cell_type": "markdown",
   "metadata": {},
   "source": [
    "weight"
   ]
  },
  {
   "cell_type": "markdown",
   "metadata": {},
   "source": [
    "draw - look up advantage of draw in course"
   ]
  },
  {
   "cell_type": "markdown",
   "metadata": {},
   "source": [
    "type of race - handicap/flat/jumps"
   ]
  },
  {
   "cell_type": "markdown",
   "metadata": {},
   "source": [
    "### Training"
   ]
  },
  {
   "cell_type": "markdown",
   "metadata": {},
   "source": [
    "### Predict"
   ]
  },
  {
   "cell_type": "code",
   "execution_count": null,
   "metadata": {},
   "outputs": [],
   "source": []
  }
 ],
 "metadata": {
  "kernelspec": {
   "display_name": "Python 3",
   "language": "python",
   "name": "python3"
  },
  "language_info": {
   "codemirror_mode": {
    "name": "ipython",
    "version": 3
   },
   "file_extension": ".py",
   "mimetype": "text/x-python",
   "name": "python",
   "nbconvert_exporter": "python",
   "pygments_lexer": "ipython3",
   "version": "3.6.5"
  }
 },
 "nbformat": 4,
 "nbformat_minor": 2
}
